{
  "cells": [
    {
      "cell_type": "markdown",
      "metadata": {
        "id": "view-in-github",
        "colab_type": "text"
      },
      "source": [
        "<a href=\"https://colab.research.google.com/github/Agoston03/Deep-Learning-42/blob/main/deep_learning_42.ipynb\" target=\"_parent\"><img src=\"https://colab.research.google.com/assets/colab-badge.svg\" alt=\"Open In Colab\"/></a>"
      ]
    },
    {
      "cell_type": "markdown",
      "metadata": {
        "id": "jaVr3Q6x0tKL"
      },
      "source": [
        "### ***This is a Draft version***\n",
        "### **Our goal is to achieve the offered grade. The current solution is still under development**.\n",
        "\n",
        "\n",
        "\n",
        "\n",
        "This is a homework project in \"Deep Learning a gyakorlatban Python és Lua alapokon\".  \n",
        "The team members are:\n",
        "\n",
        "* Gyulai Gergő László\n",
        "* Horváth Ágoston\n",
        "* Frink Dávid\n",
        "\n",
        "You can read more information about our chosen homework at the link below:  \n",
        "https://www.kaggle.com/competitions/isic-2024-challenge"
      ]
    },
    {
      "cell_type": "markdown",
      "metadata": {
        "id": "gTfguNqP_MPw"
      },
      "source": [
        "###*Download and setup*\n",
        "\n",
        "\n",
        "In this section, we will download the necessary libraries and tools."
      ]
    },
    {
      "cell_type": "markdown",
      "metadata": {
        "id": "xIs7lHT5_R75"
      },
      "source": [
        "Download the Kaggle library"
      ]
    },
    {
      "cell_type": "code",
      "execution_count": 1,
      "metadata": {
        "colab": {
          "base_uri": "https://localhost:8080/"
        },
        "collapsed": true,
        "id": "3mF86X9w98eu",
        "outputId": "054656be-a672-4d6f-ac6d-8051a69a039d"
      },
      "outputs": [
        {
          "output_type": "stream",
          "name": "stdout",
          "text": [
            "Collecting kaggle==1.5.12\n",
            "  Downloading kaggle-1.5.12.tar.gz (58 kB)\n",
            "\u001b[?25l     \u001b[90m━━━━━━━━━━━━━━━━━━━━━━━━━━━━━━━━━━━━━━━━\u001b[0m \u001b[32m0.0/59.0 kB\u001b[0m \u001b[31m?\u001b[0m eta \u001b[36m-:--:--\u001b[0m\r\u001b[2K     \u001b[90m━━━━━━━━━━━━━━━━━━━━━━━━━━━━━━━━━━━━━━━━\u001b[0m \u001b[32m59.0/59.0 kB\u001b[0m \u001b[31m4.0 MB/s\u001b[0m eta \u001b[36m0:00:00\u001b[0m\n",
            "\u001b[?25h  Preparing metadata (setup.py) ... \u001b[?25l\u001b[?25hdone\n",
            "Requirement already satisfied: six>=1.10 in /usr/local/lib/python3.10/dist-packages (from kaggle==1.5.12) (1.17.0)\n",
            "Requirement already satisfied: certifi in /usr/local/lib/python3.10/dist-packages (from kaggle==1.5.12) (2024.12.14)\n",
            "Requirement already satisfied: python-dateutil in /usr/local/lib/python3.10/dist-packages (from kaggle==1.5.12) (2.8.2)\n",
            "Requirement already satisfied: requests in /usr/local/lib/python3.10/dist-packages (from kaggle==1.5.12) (2.32.3)\n",
            "Requirement already satisfied: tqdm in /usr/local/lib/python3.10/dist-packages (from kaggle==1.5.12) (4.67.1)\n",
            "Requirement already satisfied: python-slugify in /usr/local/lib/python3.10/dist-packages (from kaggle==1.5.12) (8.0.4)\n",
            "Requirement already satisfied: urllib3 in /usr/local/lib/python3.10/dist-packages (from kaggle==1.5.12) (2.2.3)\n",
            "Requirement already satisfied: text-unidecode>=1.3 in /usr/local/lib/python3.10/dist-packages (from python-slugify->kaggle==1.5.12) (1.3)\n",
            "Requirement already satisfied: charset-normalizer<4,>=2 in /usr/local/lib/python3.10/dist-packages (from requests->kaggle==1.5.12) (3.4.0)\n",
            "Requirement already satisfied: idna<4,>=2.5 in /usr/local/lib/python3.10/dist-packages (from requests->kaggle==1.5.12) (3.10)\n",
            "Building wheels for collected packages: kaggle\n",
            "  Building wheel for kaggle (setup.py) ... \u001b[?25l\u001b[?25hdone\n",
            "  Created wheel for kaggle: filename=kaggle-1.5.12-py3-none-any.whl size=73026 sha256=72aef0721f8e0403daf13ce43185bd9e980a764bdea45b862f9c10b3f4f30744\n",
            "  Stored in directory: /root/.cache/pip/wheels/70/0c/e6/79103212a102e78b8453691b905f48000219574ba7137e7207\n",
            "Successfully built kaggle\n",
            "Installing collected packages: kaggle\n",
            "  Attempting uninstall: kaggle\n",
            "    Found existing installation: kaggle 1.6.17\n",
            "    Uninstalling kaggle-1.6.17:\n",
            "      Successfully uninstalled kaggle-1.6.17\n",
            "Successfully installed kaggle-1.5.12\n"
          ]
        }
      ],
      "source": [
        "!pip install kaggle==1.5.12"
      ]
    },
    {
      "cell_type": "markdown",
      "metadata": {
        "id": "x3uje-t7_USk"
      },
      "source": [
        "Configure Kaggle to access the API  \n",
        "**Warning!** You need to copy your own kaggle.json file into Colab in order to validate yourself"
      ]
    },
    {
      "cell_type": "code",
      "execution_count": 2,
      "metadata": {
        "id": "pH6K85Qn9_k-"
      },
      "outputs": [],
      "source": [
        "!mkdir -p ~/.kaggle\n",
        "!cp kaggle.json ~/.kaggle/\n",
        "!chmod 600 ~/.kaggle/kaggle.json"
      ]
    },
    {
      "cell_type": "markdown",
      "metadata": {
        "id": "xcy_RfSI_b3V"
      },
      "source": [
        "Download the data"
      ]
    },
    {
      "cell_type": "code",
      "execution_count": 3,
      "metadata": {
        "colab": {
          "base_uri": "https://localhost:8080/"
        },
        "id": "roNx7yrj-PeO",
        "outputId": "69a88d79-9035-4731-ce22-7770107c9d11"
      },
      "outputs": [
        {
          "output_type": "stream",
          "name": "stdout",
          "text": [
            "Downloading isic-2024-challenge.zip to /content\n",
            "100% 2.00G/2.00G [00:15<00:00, 148MB/s]\n",
            "100% 2.00G/2.00G [00:15<00:00, 140MB/s]\n"
          ]
        }
      ],
      "source": [
        "!kaggle competitions download -c isic-2024-challenge"
      ]
    },
    {
      "cell_type": "markdown",
      "metadata": {
        "id": "jPTbkCYo_g3Z"
      },
      "source": [
        "Unpacking the data  \n",
        "**Warning!** This might take a few minuttes"
      ]
    },
    {
      "cell_type": "code",
      "source": [
        "!unzip isic-2024-challenge.zip -x \"train-image/image/*\""
      ],
      "metadata": {
        "colab": {
          "base_uri": "https://localhost:8080/"
        },
        "id": "i9mA0EtAYDfb",
        "outputId": "0196a050-2766-4107-9d72-66d1f7cc685a"
      },
      "execution_count": 4,
      "outputs": [
        {
          "output_type": "stream",
          "name": "stdout",
          "text": [
            "Archive:  isic-2024-challenge.zip\n",
            "  inflating: sample_submission.csv   \n",
            "  inflating: test-image.hdf5         \n",
            "  inflating: test-metadata.csv       \n",
            "  inflating: train-image.hdf5        \n",
            "  inflating: train-metadata.csv      \n"
          ]
        }
      ]
    },
    {
      "cell_type": "code",
      "source": [
        "!pip install keras-tuner"
      ],
      "metadata": {
        "colab": {
          "base_uri": "https://localhost:8080/"
        },
        "id": "YJvprHt5yrhs",
        "outputId": "74a7d922-a658-46a2-b611-0059182feff6"
      },
      "execution_count": 5,
      "outputs": [
        {
          "output_type": "stream",
          "name": "stdout",
          "text": [
            "Collecting keras-tuner\n",
            "  Downloading keras_tuner-1.4.7-py3-none-any.whl.metadata (5.4 kB)\n",
            "Requirement already satisfied: keras in /usr/local/lib/python3.10/dist-packages (from keras-tuner) (3.5.0)\n",
            "Requirement already satisfied: packaging in /usr/local/lib/python3.10/dist-packages (from keras-tuner) (24.2)\n",
            "Requirement already satisfied: requests in /usr/local/lib/python3.10/dist-packages (from keras-tuner) (2.32.3)\n",
            "Collecting kt-legacy (from keras-tuner)\n",
            "  Downloading kt_legacy-1.0.5-py3-none-any.whl.metadata (221 bytes)\n",
            "Requirement already satisfied: absl-py in /usr/local/lib/python3.10/dist-packages (from keras->keras-tuner) (1.4.0)\n",
            "Requirement already satisfied: numpy in /usr/local/lib/python3.10/dist-packages (from keras->keras-tuner) (1.26.4)\n",
            "Requirement already satisfied: rich in /usr/local/lib/python3.10/dist-packages (from keras->keras-tuner) (13.9.4)\n",
            "Requirement already satisfied: namex in /usr/local/lib/python3.10/dist-packages (from keras->keras-tuner) (0.0.8)\n",
            "Requirement already satisfied: h5py in /usr/local/lib/python3.10/dist-packages (from keras->keras-tuner) (3.12.1)\n",
            "Requirement already satisfied: optree in /usr/local/lib/python3.10/dist-packages (from keras->keras-tuner) (0.13.1)\n",
            "Requirement already satisfied: ml-dtypes in /usr/local/lib/python3.10/dist-packages (from keras->keras-tuner) (0.4.1)\n",
            "Requirement already satisfied: charset-normalizer<4,>=2 in /usr/local/lib/python3.10/dist-packages (from requests->keras-tuner) (3.4.0)\n",
            "Requirement already satisfied: idna<4,>=2.5 in /usr/local/lib/python3.10/dist-packages (from requests->keras-tuner) (3.10)\n",
            "Requirement already satisfied: urllib3<3,>=1.21.1 in /usr/local/lib/python3.10/dist-packages (from requests->keras-tuner) (2.2.3)\n",
            "Requirement already satisfied: certifi>=2017.4.17 in /usr/local/lib/python3.10/dist-packages (from requests->keras-tuner) (2024.12.14)\n",
            "Requirement already satisfied: typing-extensions>=4.5.0 in /usr/local/lib/python3.10/dist-packages (from optree->keras->keras-tuner) (4.12.2)\n",
            "Requirement already satisfied: markdown-it-py>=2.2.0 in /usr/local/lib/python3.10/dist-packages (from rich->keras->keras-tuner) (3.0.0)\n",
            "Requirement already satisfied: pygments<3.0.0,>=2.13.0 in /usr/local/lib/python3.10/dist-packages (from rich->keras->keras-tuner) (2.18.0)\n",
            "Requirement already satisfied: mdurl~=0.1 in /usr/local/lib/python3.10/dist-packages (from markdown-it-py>=2.2.0->rich->keras->keras-tuner) (0.1.2)\n",
            "Downloading keras_tuner-1.4.7-py3-none-any.whl (129 kB)\n",
            "\u001b[2K   \u001b[90m━━━━━━━━━━━━━━━━━━━━━━━━━━━━━━━━━━━━━━━━\u001b[0m \u001b[32m129.1/129.1 kB\u001b[0m \u001b[31m4.3 MB/s\u001b[0m eta \u001b[36m0:00:00\u001b[0m\n",
            "\u001b[?25hDownloading kt_legacy-1.0.5-py3-none-any.whl (9.6 kB)\n",
            "Installing collected packages: kt-legacy, keras-tuner\n",
            "Successfully installed keras-tuner-1.4.7 kt-legacy-1.0.5\n"
          ]
        }
      ]
    },
    {
      "cell_type": "markdown",
      "metadata": {
        "id": "J4bEYuQqEvTE"
      },
      "source": [
        "Importing the Required Libraries"
      ]
    },
    {
      "cell_type": "code",
      "execution_count": 2,
      "metadata": {
        "id": "5C57tKh6Eu9k"
      },
      "outputs": [],
      "source": [
        "import pandas as pd\n",
        "import numpy as np\n",
        "\n",
        "from PIL import Image\n",
        "import io\n",
        "import h5py\n",
        "import matplotlib.pyplot as plt\n",
        "import os\n",
        "from math import ceil\n",
        "\n",
        "from tensorflow import keras\n",
        "import tensorflow as tf\n",
        "from tensorflow.keras.models import Model\n",
        "from tensorflow.keras.applications import EfficientNetB0\n",
        "from tensorflow.keras.layers import Dense, GlobalAveragePooling2D\n",
        "from tensorflow.keras.preprocessing.image import ImageDataGenerator\n",
        "from tensorflow.keras.layers import BatchNormalization, Dropout\n",
        "from tensorflow.keras.optimizers import Adam, SGD\n",
        "from tensorflow.keras import layers\n",
        "import keras_tuner\n",
        "from tensorflow.keras.callbacks import EarlyStopping, ReduceLROnPlateau, ModelCheckpoint\n",
        "\n",
        "import itertools\n",
        "import seaborn as sns\n",
        "from sklearn.metrics import confusion_matrix"
      ]
    },
    {
      "cell_type": "markdown",
      "metadata": {
        "id": "JAKVH9CsyP7N"
      },
      "source": [
        "### *Preparing train, test and valid set*\n",
        "\n",
        "In this section we will create the required datasets for further fitting."
      ]
    },
    {
      "cell_type": "markdown",
      "metadata": {
        "id": "kiIoGH76cAo4"
      },
      "source": [
        "Gather information about the dataset based on the metadata"
      ]
    },
    {
      "cell_type": "code",
      "execution_count": 3,
      "metadata": {
        "colab": {
          "base_uri": "https://localhost:8080/",
          "height": 0
        },
        "id": "zkYDYcfg2_pO",
        "outputId": "9d208461-c892-423a-9423-5a67ea207329"
      },
      "outputs": [
        {
          "output_type": "stream",
          "name": "stderr",
          "text": [
            "<ipython-input-3-4c180bfb1031>:1: DtypeWarning: Columns (51,52) have mixed types. Specify dtype option on import or set low_memory=False.\n",
            "  metadata = pd.read_csv('train-metadata.csv')\n"
          ]
        },
        {
          "output_type": "execute_result",
          "data": {
            "text/plain": [
              "        isic_id  target  patient_id  age_approx   sex anatom_site_general  \\\n",
              "0  ISIC_0015670       0  IP_1235828        60.0  male     lower extremity   \n",
              "1  ISIC_0015845       0  IP_8170065        60.0  male           head/neck   \n",
              "2  ISIC_0015864       0  IP_6724798        60.0  male     posterior torso   \n",
              "3  ISIC_0015902       0  IP_4111386        65.0  male      anterior torso   \n",
              "4  ISIC_0024200       0  IP_8313778        55.0  male      anterior torso   \n",
              "\n",
              "   clin_size_long_diam_mm          image_type tbp_tile_type   tbp_lv_A  ...  \\\n",
              "0                    3.04  TBP tile: close-up     3D: white  20.244422  ...   \n",
              "1                    1.10  TBP tile: close-up     3D: white  31.712570  ...   \n",
              "2                    3.40  TBP tile: close-up        3D: XP  22.575830  ...   \n",
              "3                    3.22  TBP tile: close-up        3D: XP  14.242329  ...   \n",
              "4                    2.73  TBP tile: close-up     3D: white  24.725520  ...   \n",
              "\n",
              "    lesion_id  iddx_full  iddx_1  iddx_2  iddx_3  iddx_4  iddx_5  \\\n",
              "0         NaN     Benign  Benign     NaN     NaN     NaN     NaN   \n",
              "1  IL_6727506     Benign  Benign     NaN     NaN     NaN     NaN   \n",
              "2         NaN     Benign  Benign     NaN     NaN     NaN     NaN   \n",
              "3         NaN     Benign  Benign     NaN     NaN     NaN     NaN   \n",
              "4         NaN     Benign  Benign     NaN     NaN     NaN     NaN   \n",
              "\n",
              "   mel_mitotic_index  mel_thick_mm  tbp_lv_dnn_lesion_confidence  \n",
              "0                NaN           NaN                     97.517282  \n",
              "1                NaN           NaN                      3.141455  \n",
              "2                NaN           NaN                     99.804040  \n",
              "3                NaN           NaN                     99.989998  \n",
              "4                NaN           NaN                     70.442510  \n",
              "\n",
              "[5 rows x 55 columns]"
            ],
            "text/html": [
              "\n",
              "  <div id=\"df-145c1607-354a-4815-86dc-8ef9ed4c8f08\" class=\"colab-df-container\">\n",
              "    <div>\n",
              "<style scoped>\n",
              "    .dataframe tbody tr th:only-of-type {\n",
              "        vertical-align: middle;\n",
              "    }\n",
              "\n",
              "    .dataframe tbody tr th {\n",
              "        vertical-align: top;\n",
              "    }\n",
              "\n",
              "    .dataframe thead th {\n",
              "        text-align: right;\n",
              "    }\n",
              "</style>\n",
              "<table border=\"1\" class=\"dataframe\">\n",
              "  <thead>\n",
              "    <tr style=\"text-align: right;\">\n",
              "      <th></th>\n",
              "      <th>isic_id</th>\n",
              "      <th>target</th>\n",
              "      <th>patient_id</th>\n",
              "      <th>age_approx</th>\n",
              "      <th>sex</th>\n",
              "      <th>anatom_site_general</th>\n",
              "      <th>clin_size_long_diam_mm</th>\n",
              "      <th>image_type</th>\n",
              "      <th>tbp_tile_type</th>\n",
              "      <th>tbp_lv_A</th>\n",
              "      <th>...</th>\n",
              "      <th>lesion_id</th>\n",
              "      <th>iddx_full</th>\n",
              "      <th>iddx_1</th>\n",
              "      <th>iddx_2</th>\n",
              "      <th>iddx_3</th>\n",
              "      <th>iddx_4</th>\n",
              "      <th>iddx_5</th>\n",
              "      <th>mel_mitotic_index</th>\n",
              "      <th>mel_thick_mm</th>\n",
              "      <th>tbp_lv_dnn_lesion_confidence</th>\n",
              "    </tr>\n",
              "  </thead>\n",
              "  <tbody>\n",
              "    <tr>\n",
              "      <th>0</th>\n",
              "      <td>ISIC_0015670</td>\n",
              "      <td>0</td>\n",
              "      <td>IP_1235828</td>\n",
              "      <td>60.0</td>\n",
              "      <td>male</td>\n",
              "      <td>lower extremity</td>\n",
              "      <td>3.04</td>\n",
              "      <td>TBP tile: close-up</td>\n",
              "      <td>3D: white</td>\n",
              "      <td>20.244422</td>\n",
              "      <td>...</td>\n",
              "      <td>NaN</td>\n",
              "      <td>Benign</td>\n",
              "      <td>Benign</td>\n",
              "      <td>NaN</td>\n",
              "      <td>NaN</td>\n",
              "      <td>NaN</td>\n",
              "      <td>NaN</td>\n",
              "      <td>NaN</td>\n",
              "      <td>NaN</td>\n",
              "      <td>97.517282</td>\n",
              "    </tr>\n",
              "    <tr>\n",
              "      <th>1</th>\n",
              "      <td>ISIC_0015845</td>\n",
              "      <td>0</td>\n",
              "      <td>IP_8170065</td>\n",
              "      <td>60.0</td>\n",
              "      <td>male</td>\n",
              "      <td>head/neck</td>\n",
              "      <td>1.10</td>\n",
              "      <td>TBP tile: close-up</td>\n",
              "      <td>3D: white</td>\n",
              "      <td>31.712570</td>\n",
              "      <td>...</td>\n",
              "      <td>IL_6727506</td>\n",
              "      <td>Benign</td>\n",
              "      <td>Benign</td>\n",
              "      <td>NaN</td>\n",
              "      <td>NaN</td>\n",
              "      <td>NaN</td>\n",
              "      <td>NaN</td>\n",
              "      <td>NaN</td>\n",
              "      <td>NaN</td>\n",
              "      <td>3.141455</td>\n",
              "    </tr>\n",
              "    <tr>\n",
              "      <th>2</th>\n",
              "      <td>ISIC_0015864</td>\n",
              "      <td>0</td>\n",
              "      <td>IP_6724798</td>\n",
              "      <td>60.0</td>\n",
              "      <td>male</td>\n",
              "      <td>posterior torso</td>\n",
              "      <td>3.40</td>\n",
              "      <td>TBP tile: close-up</td>\n",
              "      <td>3D: XP</td>\n",
              "      <td>22.575830</td>\n",
              "      <td>...</td>\n",
              "      <td>NaN</td>\n",
              "      <td>Benign</td>\n",
              "      <td>Benign</td>\n",
              "      <td>NaN</td>\n",
              "      <td>NaN</td>\n",
              "      <td>NaN</td>\n",
              "      <td>NaN</td>\n",
              "      <td>NaN</td>\n",
              "      <td>NaN</td>\n",
              "      <td>99.804040</td>\n",
              "    </tr>\n",
              "    <tr>\n",
              "      <th>3</th>\n",
              "      <td>ISIC_0015902</td>\n",
              "      <td>0</td>\n",
              "      <td>IP_4111386</td>\n",
              "      <td>65.0</td>\n",
              "      <td>male</td>\n",
              "      <td>anterior torso</td>\n",
              "      <td>3.22</td>\n",
              "      <td>TBP tile: close-up</td>\n",
              "      <td>3D: XP</td>\n",
              "      <td>14.242329</td>\n",
              "      <td>...</td>\n",
              "      <td>NaN</td>\n",
              "      <td>Benign</td>\n",
              "      <td>Benign</td>\n",
              "      <td>NaN</td>\n",
              "      <td>NaN</td>\n",
              "      <td>NaN</td>\n",
              "      <td>NaN</td>\n",
              "      <td>NaN</td>\n",
              "      <td>NaN</td>\n",
              "      <td>99.989998</td>\n",
              "    </tr>\n",
              "    <tr>\n",
              "      <th>4</th>\n",
              "      <td>ISIC_0024200</td>\n",
              "      <td>0</td>\n",
              "      <td>IP_8313778</td>\n",
              "      <td>55.0</td>\n",
              "      <td>male</td>\n",
              "      <td>anterior torso</td>\n",
              "      <td>2.73</td>\n",
              "      <td>TBP tile: close-up</td>\n",
              "      <td>3D: white</td>\n",
              "      <td>24.725520</td>\n",
              "      <td>...</td>\n",
              "      <td>NaN</td>\n",
              "      <td>Benign</td>\n",
              "      <td>Benign</td>\n",
              "      <td>NaN</td>\n",
              "      <td>NaN</td>\n",
              "      <td>NaN</td>\n",
              "      <td>NaN</td>\n",
              "      <td>NaN</td>\n",
              "      <td>NaN</td>\n",
              "      <td>70.442510</td>\n",
              "    </tr>\n",
              "  </tbody>\n",
              "</table>\n",
              "<p>5 rows × 55 columns</p>\n",
              "</div>\n",
              "    <div class=\"colab-df-buttons\">\n",
              "\n",
              "  <div class=\"colab-df-container\">\n",
              "    <button class=\"colab-df-convert\" onclick=\"convertToInteractive('df-145c1607-354a-4815-86dc-8ef9ed4c8f08')\"\n",
              "            title=\"Convert this dataframe to an interactive table.\"\n",
              "            style=\"display:none;\">\n",
              "\n",
              "  <svg xmlns=\"http://www.w3.org/2000/svg\" height=\"24px\" viewBox=\"0 -960 960 960\">\n",
              "    <path d=\"M120-120v-720h720v720H120Zm60-500h600v-160H180v160Zm220 220h160v-160H400v160Zm0 220h160v-160H400v160ZM180-400h160v-160H180v160Zm440 0h160v-160H620v160ZM180-180h160v-160H180v160Zm440 0h160v-160H620v160Z\"/>\n",
              "  </svg>\n",
              "    </button>\n",
              "\n",
              "  <style>\n",
              "    .colab-df-container {\n",
              "      display:flex;\n",
              "      gap: 12px;\n",
              "    }\n",
              "\n",
              "    .colab-df-convert {\n",
              "      background-color: #E8F0FE;\n",
              "      border: none;\n",
              "      border-radius: 50%;\n",
              "      cursor: pointer;\n",
              "      display: none;\n",
              "      fill: #1967D2;\n",
              "      height: 32px;\n",
              "      padding: 0 0 0 0;\n",
              "      width: 32px;\n",
              "    }\n",
              "\n",
              "    .colab-df-convert:hover {\n",
              "      background-color: #E2EBFA;\n",
              "      box-shadow: 0px 1px 2px rgba(60, 64, 67, 0.3), 0px 1px 3px 1px rgba(60, 64, 67, 0.15);\n",
              "      fill: #174EA6;\n",
              "    }\n",
              "\n",
              "    .colab-df-buttons div {\n",
              "      margin-bottom: 4px;\n",
              "    }\n",
              "\n",
              "    [theme=dark] .colab-df-convert {\n",
              "      background-color: #3B4455;\n",
              "      fill: #D2E3FC;\n",
              "    }\n",
              "\n",
              "    [theme=dark] .colab-df-convert:hover {\n",
              "      background-color: #434B5C;\n",
              "      box-shadow: 0px 1px 3px 1px rgba(0, 0, 0, 0.15);\n",
              "      filter: drop-shadow(0px 1px 2px rgba(0, 0, 0, 0.3));\n",
              "      fill: #FFFFFF;\n",
              "    }\n",
              "  </style>\n",
              "\n",
              "    <script>\n",
              "      const buttonEl =\n",
              "        document.querySelector('#df-145c1607-354a-4815-86dc-8ef9ed4c8f08 button.colab-df-convert');\n",
              "      buttonEl.style.display =\n",
              "        google.colab.kernel.accessAllowed ? 'block' : 'none';\n",
              "\n",
              "      async function convertToInteractive(key) {\n",
              "        const element = document.querySelector('#df-145c1607-354a-4815-86dc-8ef9ed4c8f08');\n",
              "        const dataTable =\n",
              "          await google.colab.kernel.invokeFunction('convertToInteractive',\n",
              "                                                    [key], {});\n",
              "        if (!dataTable) return;\n",
              "\n",
              "        const docLinkHtml = 'Like what you see? Visit the ' +\n",
              "          '<a target=\"_blank\" href=https://colab.research.google.com/notebooks/data_table.ipynb>data table notebook</a>'\n",
              "          + ' to learn more about interactive tables.';\n",
              "        element.innerHTML = '';\n",
              "        dataTable['output_type'] = 'display_data';\n",
              "        await google.colab.output.renderOutput(dataTable, element);\n",
              "        const docLink = document.createElement('div');\n",
              "        docLink.innerHTML = docLinkHtml;\n",
              "        element.appendChild(docLink);\n",
              "      }\n",
              "    </script>\n",
              "  </div>\n",
              "\n",
              "\n",
              "<div id=\"df-9b91f786-2812-48e6-9784-95a57a013ac2\">\n",
              "  <button class=\"colab-df-quickchart\" onclick=\"quickchart('df-9b91f786-2812-48e6-9784-95a57a013ac2')\"\n",
              "            title=\"Suggest charts\"\n",
              "            style=\"display:none;\">\n",
              "\n",
              "<svg xmlns=\"http://www.w3.org/2000/svg\" height=\"24px\"viewBox=\"0 0 24 24\"\n",
              "     width=\"24px\">\n",
              "    <g>\n",
              "        <path d=\"M19 3H5c-1.1 0-2 .9-2 2v14c0 1.1.9 2 2 2h14c1.1 0 2-.9 2-2V5c0-1.1-.9-2-2-2zM9 17H7v-7h2v7zm4 0h-2V7h2v10zm4 0h-2v-4h2v4z\"/>\n",
              "    </g>\n",
              "</svg>\n",
              "  </button>\n",
              "\n",
              "<style>\n",
              "  .colab-df-quickchart {\n",
              "      --bg-color: #E8F0FE;\n",
              "      --fill-color: #1967D2;\n",
              "      --hover-bg-color: #E2EBFA;\n",
              "      --hover-fill-color: #174EA6;\n",
              "      --disabled-fill-color: #AAA;\n",
              "      --disabled-bg-color: #DDD;\n",
              "  }\n",
              "\n",
              "  [theme=dark] .colab-df-quickchart {\n",
              "      --bg-color: #3B4455;\n",
              "      --fill-color: #D2E3FC;\n",
              "      --hover-bg-color: #434B5C;\n",
              "      --hover-fill-color: #FFFFFF;\n",
              "      --disabled-bg-color: #3B4455;\n",
              "      --disabled-fill-color: #666;\n",
              "  }\n",
              "\n",
              "  .colab-df-quickchart {\n",
              "    background-color: var(--bg-color);\n",
              "    border: none;\n",
              "    border-radius: 50%;\n",
              "    cursor: pointer;\n",
              "    display: none;\n",
              "    fill: var(--fill-color);\n",
              "    height: 32px;\n",
              "    padding: 0;\n",
              "    width: 32px;\n",
              "  }\n",
              "\n",
              "  .colab-df-quickchart:hover {\n",
              "    background-color: var(--hover-bg-color);\n",
              "    box-shadow: 0 1px 2px rgba(60, 64, 67, 0.3), 0 1px 3px 1px rgba(60, 64, 67, 0.15);\n",
              "    fill: var(--button-hover-fill-color);\n",
              "  }\n",
              "\n",
              "  .colab-df-quickchart-complete:disabled,\n",
              "  .colab-df-quickchart-complete:disabled:hover {\n",
              "    background-color: var(--disabled-bg-color);\n",
              "    fill: var(--disabled-fill-color);\n",
              "    box-shadow: none;\n",
              "  }\n",
              "\n",
              "  .colab-df-spinner {\n",
              "    border: 2px solid var(--fill-color);\n",
              "    border-color: transparent;\n",
              "    border-bottom-color: var(--fill-color);\n",
              "    animation:\n",
              "      spin 1s steps(1) infinite;\n",
              "  }\n",
              "\n",
              "  @keyframes spin {\n",
              "    0% {\n",
              "      border-color: transparent;\n",
              "      border-bottom-color: var(--fill-color);\n",
              "      border-left-color: var(--fill-color);\n",
              "    }\n",
              "    20% {\n",
              "      border-color: transparent;\n",
              "      border-left-color: var(--fill-color);\n",
              "      border-top-color: var(--fill-color);\n",
              "    }\n",
              "    30% {\n",
              "      border-color: transparent;\n",
              "      border-left-color: var(--fill-color);\n",
              "      border-top-color: var(--fill-color);\n",
              "      border-right-color: var(--fill-color);\n",
              "    }\n",
              "    40% {\n",
              "      border-color: transparent;\n",
              "      border-right-color: var(--fill-color);\n",
              "      border-top-color: var(--fill-color);\n",
              "    }\n",
              "    60% {\n",
              "      border-color: transparent;\n",
              "      border-right-color: var(--fill-color);\n",
              "    }\n",
              "    80% {\n",
              "      border-color: transparent;\n",
              "      border-right-color: var(--fill-color);\n",
              "      border-bottom-color: var(--fill-color);\n",
              "    }\n",
              "    90% {\n",
              "      border-color: transparent;\n",
              "      border-bottom-color: var(--fill-color);\n",
              "    }\n",
              "  }\n",
              "</style>\n",
              "\n",
              "  <script>\n",
              "    async function quickchart(key) {\n",
              "      const quickchartButtonEl =\n",
              "        document.querySelector('#' + key + ' button');\n",
              "      quickchartButtonEl.disabled = true;  // To prevent multiple clicks.\n",
              "      quickchartButtonEl.classList.add('colab-df-spinner');\n",
              "      try {\n",
              "        const charts = await google.colab.kernel.invokeFunction(\n",
              "            'suggestCharts', [key], {});\n",
              "      } catch (error) {\n",
              "        console.error('Error during call to suggestCharts:', error);\n",
              "      }\n",
              "      quickchartButtonEl.classList.remove('colab-df-spinner');\n",
              "      quickchartButtonEl.classList.add('colab-df-quickchart-complete');\n",
              "    }\n",
              "    (() => {\n",
              "      let quickchartButtonEl =\n",
              "        document.querySelector('#df-9b91f786-2812-48e6-9784-95a57a013ac2 button');\n",
              "      quickchartButtonEl.style.display =\n",
              "        google.colab.kernel.accessAllowed ? 'block' : 'none';\n",
              "    })();\n",
              "  </script>\n",
              "</div>\n",
              "\n",
              "    </div>\n",
              "  </div>\n"
            ],
            "application/vnd.google.colaboratory.intrinsic+json": {
              "type": "dataframe",
              "variable_name": "metadata"
            }
          },
          "metadata": {},
          "execution_count": 3
        }
      ],
      "source": [
        "metadata = pd.read_csv('train-metadata.csv')\n",
        "metadata.head()"
      ]
    },
    {
      "cell_type": "markdown",
      "metadata": {
        "id": "4ydBP9ivcJPZ"
      },
      "source": [
        "Lets check the number of benign and malignant data"
      ]
    },
    {
      "cell_type": "code",
      "execution_count": 4,
      "metadata": {
        "colab": {
          "base_uri": "https://localhost:8080/"
        },
        "id": "rZbBKaex6FMy",
        "outputId": "b021524c-eee1-41f1-c150-caf0a8193663"
      },
      "outputs": [
        {
          "output_type": "stream",
          "name": "stdout",
          "text": [
            "Benign images: 400666\n",
            "Malignant images: 393\n"
          ]
        }
      ],
      "source": [
        "benign_samples = metadata[metadata['target'] == 0]\n",
        "malignant_samples = metadata[metadata['target'] == 1]\n",
        "\n",
        "print(f'Benign images: {len(benign_samples)}')\n",
        "print(f'Malignant images: {len(malignant_samples)}')"
      ]
    },
    {
      "cell_type": "markdown",
      "source": [
        "It shows a sample Ids."
      ],
      "metadata": {
        "id": "U5-hk5cnOYG6"
      }
    },
    {
      "cell_type": "code",
      "execution_count": 5,
      "metadata": {
        "colab": {
          "base_uri": "https://localhost:8080/"
        },
        "id": "Nz5LWD6678Ja",
        "outputId": "3be3036f-f32e-4b19-c327-6ce8a2743dec"
      },
      "outputs": [
        {
          "output_type": "stream",
          "name": "stdout",
          "text": [
            "Benign images ids: ['ISIC_0015670', 'ISIC_0015845', 'ISIC_0015864', 'ISIC_0015902', 'ISIC_0024200']\n",
            "Malignant images ids: ['ISIC_0082829', 'ISIC_0096034', 'ISIC_0104229', 'ISIC_0119495', 'ISIC_0157834']\n"
          ]
        }
      ],
      "source": [
        "benign_ids = benign_samples['isic_id'].tolist()\n",
        "malignant_ids = malignant_samples['isic_id'].tolist()\n",
        "\n",
        "print(f'Benign images ids: {benign_ids[:5]}')\n",
        "print(f'Malignant images ids: {malignant_ids[:5]}')"
      ]
    },
    {
      "cell_type": "markdown",
      "metadata": {
        "id": "s4i513AlCZM_"
      },
      "source": [
        "In this section we will create the datasets for the further fitting processes."
      ]
    },
    {
      "cell_type": "code",
      "source": [
        "end = len(malignant_ids)\n",
        "benign_ids = benign_ids[:end]\n",
        "\n",
        "test_split = 0.1\n",
        "valid_split = 0.1\n",
        "\n",
        "test_benign_ids = benign_ids[:int(len(benign_ids) * test_split)]\n",
        "test_malignant_ids = malignant_ids[:int(len(malignant_ids) * test_split)]\n",
        "\n",
        "valid_benign_ids = benign_ids[int(len(benign_ids) * test_split):int(len(benign_ids) * (test_split + valid_split))]\n",
        "valid_malignant_ids = malignant_ids[int(len(malignant_ids) * test_split):int(len(malignant_ids) * (test_split + valid_split))]\n",
        "\n",
        "train_benign_ids = benign_ids[int(len(benign_ids) * (test_split + valid_split)):]\n",
        "train_malignant_ids = malignant_ids[int(len(malignant_ids) * (test_split + valid_split)):]\n",
        "\n",
        "print(f'Test benign images: {len(test_benign_ids)}')\n",
        "print(f'Test malignant images: {len(test_malignant_ids)}')\n",
        "\n",
        "print(f'Valid benign images: {len(valid_benign_ids)}')\n",
        "print(f'Valid malignant images: {len(valid_malignant_ids)}')\n",
        "\n",
        "print(f'Train benign images: {len(train_benign_ids)}')\n",
        "print(f'Train malignant images: {len(train_malignant_ids)}')"
      ],
      "metadata": {
        "colab": {
          "base_uri": "https://localhost:8080/"
        },
        "id": "g4JSCNi9M78n",
        "outputId": "38a6a8d8-0e40-49d1-e7f7-4a33619854fd"
      },
      "execution_count": 6,
      "outputs": [
        {
          "output_type": "stream",
          "name": "stdout",
          "text": [
            "Test benign images: 39\n",
            "Test malignant images: 39\n",
            "Valid benign images: 39\n",
            "Valid malignant images: 39\n",
            "Train benign images: 315\n",
            "Train malignant images: 315\n"
          ]
        }
      ]
    },
    {
      "cell_type": "markdown",
      "metadata": {
        "id": "BegGV7m3-5OI"
      },
      "source": [
        "We want to train another model on the metadata.  \n",
        "The if both models say true, then the leisure is probably malignant.  \n",
        "Here we select the relevant metadata for that model."
      ]
    },
    {
      "cell_type": "code",
      "execution_count": 7,
      "metadata": {
        "colab": {
          "base_uri": "https://localhost:8080/",
          "height": 0
        },
        "id": "1VSWvJiW1TV4",
        "outputId": "c53487c9-7e39-44dc-d1b4-3ae107714619"
      },
      "outputs": [
        {
          "output_type": "execute_result",
          "data": {
            "text/plain": [
              "      clin_size_long_diam_mm  tbp_lv_areaMM2  tbp_lv_area_perim_ratio  \\\n",
              "387                     9.27       40.964534                25.940259   \n",
              "935                     3.88        6.192531                30.648580   \n",
              "1245                    6.55       12.103580                38.025960   \n",
              "1846                    5.27       13.267030                30.444160   \n",
              "3478                    5.29       15.049728                24.313243   \n",
              "\n",
              "      tbp_lv_color_std_mean  tbp_lv_deltaLBnorm  tbp_lv_minorAxisMM  \\\n",
              "387                3.287692           12.342322            6.677133   \n",
              "935                0.624458            5.716512            2.710643   \n",
              "1245               1.401430            5.621653            3.481341   \n",
              "1846               1.472167            5.481429            3.573096   \n",
              "3478               2.243673            7.399501            4.222128   \n",
              "\n",
              "      tbp_lv_perimeterMM  \n",
              "387            32.598015  \n",
              "935            13.776510  \n",
              "1245           21.453450  \n",
              "1846           20.097350  \n",
              "3478           19.128714  "
            ],
            "text/html": [
              "\n",
              "  <div id=\"df-fa743013-2482-4a08-8d01-816c047b57e7\" class=\"colab-df-container\">\n",
              "    <div>\n",
              "<style scoped>\n",
              "    .dataframe tbody tr th:only-of-type {\n",
              "        vertical-align: middle;\n",
              "    }\n",
              "\n",
              "    .dataframe tbody tr th {\n",
              "        vertical-align: top;\n",
              "    }\n",
              "\n",
              "    .dataframe thead th {\n",
              "        text-align: right;\n",
              "    }\n",
              "</style>\n",
              "<table border=\"1\" class=\"dataframe\">\n",
              "  <thead>\n",
              "    <tr style=\"text-align: right;\">\n",
              "      <th></th>\n",
              "      <th>clin_size_long_diam_mm</th>\n",
              "      <th>tbp_lv_areaMM2</th>\n",
              "      <th>tbp_lv_area_perim_ratio</th>\n",
              "      <th>tbp_lv_color_std_mean</th>\n",
              "      <th>tbp_lv_deltaLBnorm</th>\n",
              "      <th>tbp_lv_minorAxisMM</th>\n",
              "      <th>tbp_lv_perimeterMM</th>\n",
              "    </tr>\n",
              "  </thead>\n",
              "  <tbody>\n",
              "    <tr>\n",
              "      <th>387</th>\n",
              "      <td>9.27</td>\n",
              "      <td>40.964534</td>\n",
              "      <td>25.940259</td>\n",
              "      <td>3.287692</td>\n",
              "      <td>12.342322</td>\n",
              "      <td>6.677133</td>\n",
              "      <td>32.598015</td>\n",
              "    </tr>\n",
              "    <tr>\n",
              "      <th>935</th>\n",
              "      <td>3.88</td>\n",
              "      <td>6.192531</td>\n",
              "      <td>30.648580</td>\n",
              "      <td>0.624458</td>\n",
              "      <td>5.716512</td>\n",
              "      <td>2.710643</td>\n",
              "      <td>13.776510</td>\n",
              "    </tr>\n",
              "    <tr>\n",
              "      <th>1245</th>\n",
              "      <td>6.55</td>\n",
              "      <td>12.103580</td>\n",
              "      <td>38.025960</td>\n",
              "      <td>1.401430</td>\n",
              "      <td>5.621653</td>\n",
              "      <td>3.481341</td>\n",
              "      <td>21.453450</td>\n",
              "    </tr>\n",
              "    <tr>\n",
              "      <th>1846</th>\n",
              "      <td>5.27</td>\n",
              "      <td>13.267030</td>\n",
              "      <td>30.444160</td>\n",
              "      <td>1.472167</td>\n",
              "      <td>5.481429</td>\n",
              "      <td>3.573096</td>\n",
              "      <td>20.097350</td>\n",
              "    </tr>\n",
              "    <tr>\n",
              "      <th>3478</th>\n",
              "      <td>5.29</td>\n",
              "      <td>15.049728</td>\n",
              "      <td>24.313243</td>\n",
              "      <td>2.243673</td>\n",
              "      <td>7.399501</td>\n",
              "      <td>4.222128</td>\n",
              "      <td>19.128714</td>\n",
              "    </tr>\n",
              "  </tbody>\n",
              "</table>\n",
              "</div>\n",
              "    <div class=\"colab-df-buttons\">\n",
              "\n",
              "  <div class=\"colab-df-container\">\n",
              "    <button class=\"colab-df-convert\" onclick=\"convertToInteractive('df-fa743013-2482-4a08-8d01-816c047b57e7')\"\n",
              "            title=\"Convert this dataframe to an interactive table.\"\n",
              "            style=\"display:none;\">\n",
              "\n",
              "  <svg xmlns=\"http://www.w3.org/2000/svg\" height=\"24px\" viewBox=\"0 -960 960 960\">\n",
              "    <path d=\"M120-120v-720h720v720H120Zm60-500h600v-160H180v160Zm220 220h160v-160H400v160Zm0 220h160v-160H400v160ZM180-400h160v-160H180v160Zm440 0h160v-160H620v160ZM180-180h160v-160H180v160Zm440 0h160v-160H620v160Z\"/>\n",
              "  </svg>\n",
              "    </button>\n",
              "\n",
              "  <style>\n",
              "    .colab-df-container {\n",
              "      display:flex;\n",
              "      gap: 12px;\n",
              "    }\n",
              "\n",
              "    .colab-df-convert {\n",
              "      background-color: #E8F0FE;\n",
              "      border: none;\n",
              "      border-radius: 50%;\n",
              "      cursor: pointer;\n",
              "      display: none;\n",
              "      fill: #1967D2;\n",
              "      height: 32px;\n",
              "      padding: 0 0 0 0;\n",
              "      width: 32px;\n",
              "    }\n",
              "\n",
              "    .colab-df-convert:hover {\n",
              "      background-color: #E2EBFA;\n",
              "      box-shadow: 0px 1px 2px rgba(60, 64, 67, 0.3), 0px 1px 3px 1px rgba(60, 64, 67, 0.15);\n",
              "      fill: #174EA6;\n",
              "    }\n",
              "\n",
              "    .colab-df-buttons div {\n",
              "      margin-bottom: 4px;\n",
              "    }\n",
              "\n",
              "    [theme=dark] .colab-df-convert {\n",
              "      background-color: #3B4455;\n",
              "      fill: #D2E3FC;\n",
              "    }\n",
              "\n",
              "    [theme=dark] .colab-df-convert:hover {\n",
              "      background-color: #434B5C;\n",
              "      box-shadow: 0px 1px 3px 1px rgba(0, 0, 0, 0.15);\n",
              "      filter: drop-shadow(0px 1px 2px rgba(0, 0, 0, 0.3));\n",
              "      fill: #FFFFFF;\n",
              "    }\n",
              "  </style>\n",
              "\n",
              "    <script>\n",
              "      const buttonEl =\n",
              "        document.querySelector('#df-fa743013-2482-4a08-8d01-816c047b57e7 button.colab-df-convert');\n",
              "      buttonEl.style.display =\n",
              "        google.colab.kernel.accessAllowed ? 'block' : 'none';\n",
              "\n",
              "      async function convertToInteractive(key) {\n",
              "        const element = document.querySelector('#df-fa743013-2482-4a08-8d01-816c047b57e7');\n",
              "        const dataTable =\n",
              "          await google.colab.kernel.invokeFunction('convertToInteractive',\n",
              "                                                    [key], {});\n",
              "        if (!dataTable) return;\n",
              "\n",
              "        const docLinkHtml = 'Like what you see? Visit the ' +\n",
              "          '<a target=\"_blank\" href=https://colab.research.google.com/notebooks/data_table.ipynb>data table notebook</a>'\n",
              "          + ' to learn more about interactive tables.';\n",
              "        element.innerHTML = '';\n",
              "        dataTable['output_type'] = 'display_data';\n",
              "        await google.colab.output.renderOutput(dataTable, element);\n",
              "        const docLink = document.createElement('div');\n",
              "        docLink.innerHTML = docLinkHtml;\n",
              "        element.appendChild(docLink);\n",
              "      }\n",
              "    </script>\n",
              "  </div>\n",
              "\n",
              "\n",
              "<div id=\"df-5a83817f-d499-46bf-a529-fc03f340f3e3\">\n",
              "  <button class=\"colab-df-quickchart\" onclick=\"quickchart('df-5a83817f-d499-46bf-a529-fc03f340f3e3')\"\n",
              "            title=\"Suggest charts\"\n",
              "            style=\"display:none;\">\n",
              "\n",
              "<svg xmlns=\"http://www.w3.org/2000/svg\" height=\"24px\"viewBox=\"0 0 24 24\"\n",
              "     width=\"24px\">\n",
              "    <g>\n",
              "        <path d=\"M19 3H5c-1.1 0-2 .9-2 2v14c0 1.1.9 2 2 2h14c1.1 0 2-.9 2-2V5c0-1.1-.9-2-2-2zM9 17H7v-7h2v7zm4 0h-2V7h2v10zm4 0h-2v-4h2v4z\"/>\n",
              "    </g>\n",
              "</svg>\n",
              "  </button>\n",
              "\n",
              "<style>\n",
              "  .colab-df-quickchart {\n",
              "      --bg-color: #E8F0FE;\n",
              "      --fill-color: #1967D2;\n",
              "      --hover-bg-color: #E2EBFA;\n",
              "      --hover-fill-color: #174EA6;\n",
              "      --disabled-fill-color: #AAA;\n",
              "      --disabled-bg-color: #DDD;\n",
              "  }\n",
              "\n",
              "  [theme=dark] .colab-df-quickchart {\n",
              "      --bg-color: #3B4455;\n",
              "      --fill-color: #D2E3FC;\n",
              "      --hover-bg-color: #434B5C;\n",
              "      --hover-fill-color: #FFFFFF;\n",
              "      --disabled-bg-color: #3B4455;\n",
              "      --disabled-fill-color: #666;\n",
              "  }\n",
              "\n",
              "  .colab-df-quickchart {\n",
              "    background-color: var(--bg-color);\n",
              "    border: none;\n",
              "    border-radius: 50%;\n",
              "    cursor: pointer;\n",
              "    display: none;\n",
              "    fill: var(--fill-color);\n",
              "    height: 32px;\n",
              "    padding: 0;\n",
              "    width: 32px;\n",
              "  }\n",
              "\n",
              "  .colab-df-quickchart:hover {\n",
              "    background-color: var(--hover-bg-color);\n",
              "    box-shadow: 0 1px 2px rgba(60, 64, 67, 0.3), 0 1px 3px 1px rgba(60, 64, 67, 0.15);\n",
              "    fill: var(--button-hover-fill-color);\n",
              "  }\n",
              "\n",
              "  .colab-df-quickchart-complete:disabled,\n",
              "  .colab-df-quickchart-complete:disabled:hover {\n",
              "    background-color: var(--disabled-bg-color);\n",
              "    fill: var(--disabled-fill-color);\n",
              "    box-shadow: none;\n",
              "  }\n",
              "\n",
              "  .colab-df-spinner {\n",
              "    border: 2px solid var(--fill-color);\n",
              "    border-color: transparent;\n",
              "    border-bottom-color: var(--fill-color);\n",
              "    animation:\n",
              "      spin 1s steps(1) infinite;\n",
              "  }\n",
              "\n",
              "  @keyframes spin {\n",
              "    0% {\n",
              "      border-color: transparent;\n",
              "      border-bottom-color: var(--fill-color);\n",
              "      border-left-color: var(--fill-color);\n",
              "    }\n",
              "    20% {\n",
              "      border-color: transparent;\n",
              "      border-left-color: var(--fill-color);\n",
              "      border-top-color: var(--fill-color);\n",
              "    }\n",
              "    30% {\n",
              "      border-color: transparent;\n",
              "      border-left-color: var(--fill-color);\n",
              "      border-top-color: var(--fill-color);\n",
              "      border-right-color: var(--fill-color);\n",
              "    }\n",
              "    40% {\n",
              "      border-color: transparent;\n",
              "      border-right-color: var(--fill-color);\n",
              "      border-top-color: var(--fill-color);\n",
              "    }\n",
              "    60% {\n",
              "      border-color: transparent;\n",
              "      border-right-color: var(--fill-color);\n",
              "    }\n",
              "    80% {\n",
              "      border-color: transparent;\n",
              "      border-right-color: var(--fill-color);\n",
              "      border-bottom-color: var(--fill-color);\n",
              "    }\n",
              "    90% {\n",
              "      border-color: transparent;\n",
              "      border-bottom-color: var(--fill-color);\n",
              "    }\n",
              "  }\n",
              "</style>\n",
              "\n",
              "  <script>\n",
              "    async function quickchart(key) {\n",
              "      const quickchartButtonEl =\n",
              "        document.querySelector('#' + key + ' button');\n",
              "      quickchartButtonEl.disabled = true;  // To prevent multiple clicks.\n",
              "      quickchartButtonEl.classList.add('colab-df-spinner');\n",
              "      try {\n",
              "        const charts = await google.colab.kernel.invokeFunction(\n",
              "            'suggestCharts', [key], {});\n",
              "      } catch (error) {\n",
              "        console.error('Error during call to suggestCharts:', error);\n",
              "      }\n",
              "      quickchartButtonEl.classList.remove('colab-df-spinner');\n",
              "      quickchartButtonEl.classList.add('colab-df-quickchart-complete');\n",
              "    }\n",
              "    (() => {\n",
              "      let quickchartButtonEl =\n",
              "        document.querySelector('#df-5a83817f-d499-46bf-a529-fc03f340f3e3 button');\n",
              "      quickchartButtonEl.style.display =\n",
              "        google.colab.kernel.accessAllowed ? 'block' : 'none';\n",
              "    })();\n",
              "  </script>\n",
              "</div>\n",
              "\n",
              "    </div>\n",
              "  </div>\n"
            ],
            "application/vnd.google.colaboratory.intrinsic+json": {
              "type": "dataframe",
              "summary": "{\n  \"name\": \"malignant_samples[COLUMNS]\",\n  \"rows\": 5,\n  \"fields\": [\n    {\n      \"column\": \"clin_size_long_diam_mm\",\n      \"properties\": {\n        \"dtype\": \"number\",\n        \"std\": 2.03182676426904,\n        \"min\": 3.88,\n        \"max\": 9.27,\n        \"num_unique_values\": 5,\n        \"samples\": [\n          3.88,\n          5.29,\n          6.55\n        ],\n        \"semantic_type\": \"\",\n        \"description\": \"\"\n      }\n    },\n    {\n      \"column\": \"tbp_lv_areaMM2\",\n      \"properties\": {\n        \"dtype\": \"number\",\n        \"std\": 13.52299167275503,\n        \"min\": 6.192531,\n        \"max\": 40.9645336836179,\n        \"num_unique_values\": 5,\n        \"samples\": [\n          6.192531,\n          15.0497279039219,\n          12.10358\n        ],\n        \"semantic_type\": \"\",\n        \"description\": \"\"\n      }\n    },\n    {\n      \"column\": \"tbp_lv_area_perim_ratio\",\n      \"properties\": {\n        \"dtype\": \"number\",\n        \"std\": 5.333288089609362,\n        \"min\": 24.313242851162,\n        \"max\": 38.02596,\n        \"num_unique_values\": 5,\n        \"samples\": [\n          30.64858,\n          24.313242851162,\n          38.02596\n        ],\n        \"semantic_type\": \"\",\n        \"description\": \"\"\n      }\n    },\n    {\n      \"column\": \"tbp_lv_color_std_mean\",\n      \"properties\": {\n        \"dtype\": \"number\",\n        \"std\": 1.0072400683772569,\n        \"min\": 0.6244582,\n        \"max\": 3.28769156745635,\n        \"num_unique_values\": 5,\n        \"samples\": [\n          0.6244582,\n          2.24367340062197,\n          1.40143\n        ],\n        \"semantic_type\": \"\",\n        \"description\": \"\"\n      }\n    },\n    {\n      \"column\": \"tbp_lv_deltaLBnorm\",\n      \"properties\": {\n        \"dtype\": \"number\",\n        \"std\": 2.918288802231575,\n        \"min\": 5.481429,\n        \"max\": 12.3423217491784,\n        \"num_unique_values\": 5,\n        \"samples\": [\n          5.716512,\n          7.39950148444341,\n          5.621653\n        ],\n        \"semantic_type\": \"\",\n        \"description\": \"\"\n      }\n    },\n    {\n      \"column\": \"tbp_lv_minorAxisMM\",\n      \"properties\": {\n        \"dtype\": \"number\",\n        \"std\": 1.5200171757542262,\n        \"min\": 2.710643,\n        \"max\": 6.67713322051584,\n        \"num_unique_values\": 5,\n        \"samples\": [\n          2.710643,\n          4.22212757476389,\n          3.481341\n        ],\n        \"semantic_type\": \"\",\n        \"description\": \"\"\n      }\n    },\n    {\n      \"column\": \"tbp_lv_perimeterMM\",\n      \"properties\": {\n        \"dtype\": \"number\",\n        \"std\": 6.898750953864982,\n        \"min\": 13.77651,\n        \"max\": 32.5980153581636,\n        \"num_unique_values\": 5,\n        \"samples\": [\n          13.77651,\n          19.1287137406561,\n          21.45345\n        ],\n        \"semantic_type\": \"\",\n        \"description\": \"\"\n      }\n    }\n  ]\n}"
            }
          },
          "metadata": {},
          "execution_count": 7
        }
      ],
      "source": [
        "COLUMNS = [\n",
        "'clin_size_long_diam_mm',\n",
        "'tbp_lv_areaMM2',\n",
        "'tbp_lv_area_perim_ratio',\n",
        "'tbp_lv_color_std_mean',\n",
        "'tbp_lv_deltaLBnorm',\n",
        "'tbp_lv_minorAxisMM',\n",
        "'tbp_lv_perimeterMM'\n",
        "]\n",
        "\n",
        "malignant_samples[COLUMNS].head()"
      ]
    },
    {
      "cell_type": "markdown",
      "metadata": {
        "id": "943_QU1I-vle"
      },
      "source": [
        "### *Loading and visualizing the images*\n",
        "\n",
        "\n",
        "This section is about loading and visualizing the images. However just a few one."
      ]
    },
    {
      "cell_type": "markdown",
      "metadata": {
        "id": "afxGatZi4oZT"
      },
      "source": [
        "This function loads a certain number of sample images.\n"
      ]
    },
    {
      "cell_type": "code",
      "execution_count": null,
      "metadata": {
        "id": "wbxHVjUUzbX-"
      },
      "outputs": [],
      "source": [
        "def load_images_and_labels(h5_file_path, benign_ids, malignant_ids, num_images=5):\n",
        "    images = []\n",
        "    labels = []\n",
        "\n",
        "    image_ids = benign_ids + malignant_ids\n",
        "    image_ids = image_ids[:num_images]\n",
        "\n",
        "    with h5py.File(h5_file_path, 'r') as f:\n",
        "        for img_key in image_ids:\n",
        "            image_data = f[img_key][()]\n",
        "            image = np.array(Image.open(io.BytesIO(image_data)).resize((224, 224)))\n",
        "            images.append(image)\n",
        "            labels.append(0 if img_key in benign_ids else 1)\n",
        "\n",
        "    return np.array(images), np.array(labels), image_ids"
      ]
    },
    {
      "cell_type": "markdown",
      "metadata": {
        "id": "jQqakusncaLX"
      },
      "source": [
        "Visualizing a sample of the data we have."
      ]
    },
    {
      "cell_type": "code",
      "execution_count": null,
      "metadata": {
        "id": "DGHdkGfR1Wf3"
      },
      "outputs": [],
      "source": [
        "images, labels, image_ids = load_images_and_labels('train-image.hdf5', train_benign_ids, train_malignant_ids, num_images=4)\n",
        "nrows, ncols = 4, 4\n",
        "\n",
        "fig = plt.gcf()\n",
        "fig.set_size_inches(ncols * 3, nrows * 3)\n",
        "\n",
        "for i, image in enumerate(images):\n",
        "    plt.subplot(nrows, ncols, i + 1)\n",
        "    plt.imshow(image)\n",
        "\n",
        "plt.show()"
      ]
    },
    {
      "cell_type": "markdown",
      "metadata": {
        "id": "o6GsenPu5gtN"
      },
      "source": [
        "## Defining the model\n",
        "\n",
        "In this section we define our models for the detection."
      ]
    },
    {
      "cell_type": "code",
      "source": [
        "IMG_HEIGHT = 224\n",
        "IMG_WIDTH = 224\n",
        "BATCH_SIZE = 32\n",
        "NUMBER_OF_AUGMENTATIONS = 5"
      ],
      "metadata": {
        "id": "7olXtDgXh3LU"
      },
      "execution_count": 14,
      "outputs": []
    },
    {
      "cell_type": "markdown",
      "source": [
        "In these sections I define the datagenerator."
      ],
      "metadata": {
        "id": "sUQh5bgye5Zu"
      }
    },
    {
      "cell_type": "code",
      "source": [
        "def next_data_generator(benign_ids, malignant_ids, image_data_generator, is_training):\n",
        "    ids = benign_ids + malignant_ids\n",
        "    id_cycle = itertools.cycle(ids)\n",
        "\n",
        "    while True:\n",
        "        with h5py.File('train-image.hdf5', 'r') as f:\n",
        "            img_id = next(id_cycle)\n",
        "            image = np.array(Image.open(io.BytesIO(f[img_id][()])).resize((IMG_WIDTH, IMG_HEIGHT)))\n",
        "            label = 1 if img_id in malignant_ids else 0\n",
        "            yield image / 255.0, label\n",
        "\n",
        "            if is_training:\n",
        "              for _ in range(NUMBER_OF_AUGMENTATIONS):\n",
        "                  augmented_image = image_data_generator.random_transform(image)\n",
        "                  yield augmented_image, label"
      ],
      "metadata": {
        "id": "FqYWvd06xXUR"
      },
      "execution_count": 8,
      "outputs": []
    },
    {
      "cell_type": "markdown",
      "source": [
        "Added a parameter called 'is_training' to determine whether augmentation should be applied or not."
      ],
      "metadata": {
        "id": "FpJ78uaWZtuT"
      }
    },
    {
      "cell_type": "code",
      "source": [
        "def data_generator(benign_ids, malignant_ids, image_data_generator, batch_size=32, is_training = True):\n",
        "  get_next = next_data_generator(benign_ids, malignant_ids, image_data_generator, is_training)\n",
        "\n",
        "  while True:\n",
        "    batch_data = []\n",
        "    batch_labels = []\n",
        "\n",
        "    for _ in range(batch_size):\n",
        "      image_array, label = next(get_next)\n",
        "      batch_data.append(image_array)\n",
        "      batch_labels.append(label)\n",
        "\n",
        "    yield np.array(batch_data), np.array(batch_labels)"
      ],
      "metadata": {
        "id": "lDLnPuJExVVf"
      },
      "execution_count": 9,
      "outputs": []
    },
    {
      "cell_type": "markdown",
      "source": [
        "This function provides a straightforward way to create an instance of an ImageDataGenerator."
      ],
      "metadata": {
        "id": "5g6L6iVr1FQp"
      }
    },
    {
      "cell_type": "code",
      "source": [
        "def create_datagen(rescale, augment=False):\n",
        "    if augment:\n",
        "        return ImageDataGenerator(\n",
        "            rescale=rescale,\n",
        "            shear_range=0.2,\n",
        "            zoom_range=0.2,\n",
        "            horizontal_flip=True,\n",
        "            rotation_range=30,\n",
        "            brightness_range=[0.8, 1.2],\n",
        "            width_shift_range=0.2,\n",
        "            height_shift_range=0.2\n",
        "        )\n",
        "    return ImageDataGenerator(rescale=rescale)"
      ],
      "metadata": {
        "id": "fxjP_x7o01Hl"
      },
      "execution_count": 10,
      "outputs": []
    },
    {
      "cell_type": "markdown",
      "source": [
        "This function defines the model."
      ],
      "metadata": {
        "id": "S-dbg8Wa2jd7"
      }
    },
    {
      "cell_type": "code",
      "source": [
        "def build_model(hp):\n",
        "    base_model = EfficientNetB0(weights='imagenet', include_top=False, input_shape=(IMG_HEIGHT, IMG_WIDTH, 3))\n",
        "    base_model.trainable = False\n",
        "\n",
        "    x = base_model.output\n",
        "    x = GlobalAveragePooling2D()(x)\n",
        "    x = BatchNormalization()(x)\n",
        "    x = Dropout(hp.Float('dropout', 0.2, 0.5, step=0.1))(x)\n",
        "    x = Dense(hp.Int('dense_units', 128, 512, step=64), activation='relu')(x)\n",
        "    x = BatchNormalization()(x)\n",
        "    x = Dropout(hp.Float('dropout', 0.2, 0.5, step=0.1))(x)\n",
        "    output = Dense(1, activation='sigmoid')(x)\n",
        "\n",
        "    model = Model(inputs=base_model.input, outputs=output)\n",
        "\n",
        "    model.compile(\n",
        "        optimizer=SGD(\n",
        "            learning_rate=hp.Float('learning_rate', 1e-4, 1e-2, sampling='log'),\n",
        "            momentum=0.9\n",
        "        ),\n",
        "        loss='binary_crossentropy',\n",
        "        metrics=['recall', 'precision']\n",
        "    )\n",
        "\n",
        "    return model"
      ],
      "metadata": {
        "id": "OzgR1XMN2i_0"
      },
      "execution_count": 11,
      "outputs": []
    },
    {
      "cell_type": "markdown",
      "source": [
        "Here I define the Hyperparameter optimizer."
      ],
      "metadata": {
        "id": "HZVmnbArwW77"
      }
    },
    {
      "cell_type": "code",
      "source": [
        "tuner = keras_tuner.Hyperband(\n",
        "    build_model,\n",
        "    objective='val_recall',\n",
        "    max_epochs=10,\n",
        "    factor=3,\n",
        "    directory='output',\n",
        "    project_name='DP42_with_hp'\n",
        ")"
      ],
      "metadata": {
        "colab": {
          "base_uri": "https://localhost:8080/"
        },
        "id": "yys6uUsCv353",
        "outputId": "79e9934d-b1ed-4220-9bd8-8ecff5b066fd"
      },
      "execution_count": 12,
      "outputs": [
        {
          "output_type": "stream",
          "name": "stdout",
          "text": [
            "Reloading Tuner from output/DP42_with_hp/tuner0.json\n"
          ]
        }
      ]
    },
    {
      "cell_type": "markdown",
      "source": [
        "This section executes the hyperprameter optimization."
      ],
      "metadata": {
        "id": "vVW5pYbDxRIl"
      }
    },
    {
      "cell_type": "code",
      "source": [
        "train_datagen = create_datagen(1./255, augment=True)\n",
        "valid_datagen = create_datagen(1./255, augment=False)\n",
        "\n",
        "train_generator = data_generator(train_benign_ids, train_malignant_ids, train_datagen, BATCH_SIZE)\n",
        "validation_generator = data_generator(valid_benign_ids, valid_malignant_ids, valid_datagen, BATCH_SIZE, False)\n",
        "\n",
        "steps_per_epoch = ceil((len(train_benign_ids + train_malignant_ids) * (NUMBER_OF_AUGMENTATIONS + 1)) // BATCH_SIZE)\n",
        "validation_steps = ceil(len(valid_benign_ids + valid_malignant_ids) // BATCH_SIZE)\n",
        "\n",
        "tuner.search(train_generator,\n",
        "             validation_data=validation_generator,\n",
        "             epochs=10,\n",
        "             steps_per_epoch= steps_per_epoch,\n",
        "             validation_steps=validation_steps)"
      ],
      "metadata": {
        "colab": {
          "base_uri": "https://localhost:8080/"
        },
        "id": "CC80ctmQwzYh",
        "outputId": "d3fe6660-28a5-4f37-af93-6ffbbe98d496"
      },
      "execution_count": null,
      "outputs": [
        {
          "output_type": "stream",
          "name": "stdout",
          "text": [
            "Trial 29 Complete [00h 08m 36s]\n",
            "val_recall: 1.0\n",
            "\n",
            "Best val_recall So Far: 1.0\n",
            "Total elapsed time: 02h 10m 54s\n",
            "\n",
            "Search: Running Trial #30\n",
            "\n",
            "Value             |Best Value So Far |Hyperparameter\n",
            "0.2               |0.2               |dropout\n",
            "320               |256               |dense_units\n",
            "0.0021779         |0.0008074         |learning_rate\n",
            "10                |4                 |tuner/epochs\n",
            "0                 |2                 |tuner/initial_epoch\n",
            "0                 |2                 |tuner/bracket\n",
            "0                 |1                 |tuner/round\n",
            "\n",
            "Epoch 1/10\n",
            "\u001b[1m118/118\u001b[0m \u001b[32m━━━━━━━━━━━━━━━━━━━━\u001b[0m\u001b[37m\u001b[0m \u001b[1m76s\u001b[0m 470ms/step - loss: 0.8637 - precision: 0.3499 - recall: 0.3026 - val_loss: 0.7455 - val_precision: 0.3906 - val_recall: 1.0000\n",
            "Epoch 2/10\n",
            "\u001b[1m118/118\u001b[0m \u001b[32m━━━━━━━━━━━━━━━━━━━━\u001b[0m\u001b[37m\u001b[0m \u001b[1m47s\u001b[0m 401ms/step - loss: 0.7559 - precision: 0.3428 - recall: 0.2846 - val_loss: 0.7075 - val_precision: 0.4375 - val_recall: 1.0000\n",
            "Epoch 3/10\n",
            "\u001b[1m 92/118\u001b[0m \u001b[32m━━━━━━━━━━━━━━━\u001b[0m\u001b[37m━━━━━\u001b[0m \u001b[1m10s\u001b[0m 409ms/step - loss: 0.7270 - precision: 0.2753 - recall: 0.2013"
          ]
        }
      ]
    },
    {
      "cell_type": "markdown",
      "metadata": {
        "id": "8Mk9BMCkRSNb"
      },
      "source": [
        "Here, I define the required callbacks."
      ]
    },
    {
      "cell_type": "code",
      "execution_count": null,
      "metadata": {
        "id": "mzvu8HGBNZSB"
      },
      "outputs": [],
      "source": [
        "callbacks = [\n",
        "    EarlyStopping(monitor='val_recall', patience=5, restore_best_weights=True, mode='max'),\n",
        "    ReduceLROnPlateau(monitor='val_recall', factor=0.1, patience=3, min_lr=1e-6, mode='max'),\n",
        "    ModelCheckpoint(filepath='best_model.keras', monitor='val_recall', save_best_only=True, mode='max')\n",
        "]"
      ]
    },
    {
      "cell_type": "markdown",
      "metadata": {
        "id": "qIPN-l7pMuca"
      },
      "source": [
        "Training the model.  \n",
        "This might also be the subject of different modifications in the future."
      ]
    },
    {
      "cell_type": "code",
      "execution_count": null,
      "metadata": {
        "collapsed": true,
        "id": "wAlRQyAtAzmi"
      },
      "outputs": [],
      "source": [
        "best_model = tuner.get_best_models(num_models=1)[0]\n",
        "\n",
        "hist = best_model.fit(\n",
        "    train_generator,\n",
        "    validation_data=validation_generator,\n",
        "    steps_per_epoch=steps_per_epoch,\n",
        "    validation_steps=validation_steps,\n",
        "    epochs=50,\n",
        "    verbose=2,\n",
        "    callbacks=callbacks\n",
        ")"
      ]
    },
    {
      "cell_type": "markdown",
      "source": [
        "In this block of code"
      ],
      "metadata": {
        "id": "NNxq6dy7TLfe"
      }
    },
    {
      "cell_type": "code",
      "execution_count": null,
      "metadata": {
        "id": "LzFk3p1-0yQf"
      },
      "outputs": [],
      "source": [
        "def unfreeze_model(model):\n",
        "    for layer in model.layers[:-10]:\n",
        "          layer.trainable = False\n",
        "\n",
        "    for layer in model.layers[-10:]:\n",
        "          layer.trainable = True\n",
        "\n",
        "    model.compile(optimizer=SGD(learning_rate=0.0001, momentum=0.9),\n",
        "                  loss='binary_crossentropy',\n",
        "                  metrics=['recall', 'precision'])"
      ]
    },
    {
      "cell_type": "markdown",
      "source": [
        "In this section I execute a second fitting process for better perfomance."
      ],
      "metadata": {
        "id": "wxwTvT84TAyT"
      }
    },
    {
      "cell_type": "code",
      "execution_count": null,
      "metadata": {
        "collapsed": true,
        "id": "4J9g_IUQ1LOg"
      },
      "outputs": [],
      "source": [
        "unfreeze_model(best_model)\n",
        "\n",
        "hist = best_model.fit(\n",
        "    train_generator,\n",
        "    validation_data=validation_generator,\n",
        "    epochs=10,\n",
        "    verbose=2,\n",
        "    batch_size=BATCH_SIZE,\n",
        "    steps_per_epoch=steps_per_epoch,\n",
        "    validation_steps=validation_steps,\n",
        "    callbacks=callbacks\n",
        ")"
      ]
    },
    {
      "cell_type": "markdown",
      "metadata": {
        "id": "DCrvqQKWOcjp"
      },
      "source": [
        "Here we fill an aray with the **predictions** to simplify the code for the visualizations later."
      ]
    },
    {
      "cell_type": "code",
      "execution_count": null,
      "metadata": {
        "id": "Zl42XKCZ1i4H"
      },
      "outputs": [],
      "source": [
        "benign_ids = benign_samples['isic_id'].tolist()\n",
        "\n",
        "test_ids = benign_ids[5000:15000] + test_malignant_ids\n",
        "predictions_train = np.zeros((len(test_ids), 1))\n",
        "\n",
        "with h5py.File('train-image.hdf5', 'r') as f:\n",
        "  for i, img_id in enumerate(test_ids):\n",
        "      image_data = f[img_id][()]\n",
        "      image = Image.open(io.BytesIO(image_data)).resize((224, 224))\n",
        "      image_array = tf.keras.preprocessing.image.img_to_array(image)\n",
        "      image_array = np.expand_dims(image_array, axis=0)\n",
        "\n",
        "      prediction = best_model.predict(image_array, verbose=0)\n",
        "      predictions_train[i] = prediction\n",
        "\n",
        "predictions_train.shape"
      ]
    },
    {
      "cell_type": "markdown",
      "metadata": {
        "id": "wzmkrYNNO4hC"
      },
      "source": [
        "Plot the **confusion matrix**.  \n",
        "It tells a lot about the model, very intuitively."
      ]
    },
    {
      "cell_type": "code",
      "execution_count": null,
      "metadata": {
        "id": "nE2HcNDx1zCR"
      },
      "outputs": [],
      "source": [
        "true_labels_train = [0 if img_id in benign_ids[5000:15000]  else 1 for img_id in test_ids]\n",
        "predicted_labels_train = (predictions_train > 0.5).astype(int)\n",
        "cm = confusion_matrix(true_labels_train, predicted_labels_train)\n",
        "\n",
        "plt.figure(figsize=(8, 6))\n",
        "sns.heatmap(cm, annot=True, fmt='d', cmap='Blues', xticklabels=['Benign', 'Malignant'], yticklabels=['Benign', 'Malignant'])\n",
        "plt.xlabel('Predicted')\n",
        "plt.ylabel('True')\n",
        "plt.title('Confusion Matrix')\n",
        "plt.show()"
      ]
    },
    {
      "cell_type": "markdown",
      "metadata": {
        "id": "IOR6ABxDhKiJ"
      },
      "source": [
        "**Partial area under the ROC curve** (pAUC) above 80% true positive rate (TPR) for binary classification of malignant examples.\n",
        "\n",
        "The receiver operating characteristic (ROC) curve illustrates the diagnostic ability of a given binary classifier system as its discrimination threshold is varied. However, there are regions in the ROC space where the values of TPR are unacceptable in clinical practice. Systems that aid in diagnosing cancers are required to be highly-sensitive, so this metric focuses on the area under the ROC curve AND above 80% TRP. Hence, scores range from [0.0, 0.2]."
      ]
    },
    {
      "cell_type": "code",
      "execution_count": null,
      "metadata": {
        "id": "yFSLGrdZe8Yl"
      },
      "outputs": [],
      "source": [
        "from sklearn.metrics import roc_curve\n",
        "from sklearn.metrics import auc\n",
        "\n",
        "from sklearn.metrics import roc_curve\n",
        "from sklearn.metrics import auc\n",
        "\n",
        "def generate_pAUC_plot(algorithm_probs, true_labels, min_tpr=0.8):\n",
        "    fpr_a, tpr_a, _ = roc_curve(true_labels, algorithm_probs)\n",
        "\n",
        "    min_tpr_idx_a = np.where(tpr_a >= min_tpr)[0]\n",
        "\n",
        "    fpr_a_high_tpr, tpr_a_high_tpr = fpr_a[min_tpr_idx_a], tpr_a[min_tpr_idx_a]\n",
        "\n",
        "    if len(fpr_a_high_tpr) < 2:\n",
        "        print(\"Warning: Insufficient data points to calculate pAUC. Returning 0.\")\n",
        "        pAUC_a = 0.0\n",
        "    else:\n",
        "        pAUC_a = auc(fpr_a_high_tpr, tpr_a_high_tpr)\n",
        "\n",
        "    plt.figure(figsize=(10, 6))\n",
        "    plt.plot(fpr_a, tpr_a, label=f'Algorithm (pAUC={pAUC_a:.3f})', color='blue', linewidth=2)\n",
        "\n",
        "    if len(fpr_a_high_tpr) > 0 :\n",
        "        plt.fill_between(fpr_a_high_tpr, tpr_a_high_tpr, min_tpr, color='blue', alpha=0.2, label='pAUC region')\n",
        "\n",
        "    plt.axhline(y=min_tpr, color='red', linestyle='--', label=f'Minimum TPR ({min_tpr*100:.0f}%)')\n",
        "    plt.xlabel('False Positive Rate (FPR)')\n",
        "    plt.ylabel('True Positive Rate (TPR)')\n",
        "    plt.title('Partial AUC Above Minimum TPR')\n",
        "    plt.legend(loc='lower right')\n",
        "    plt.grid(alpha=0.3)\n",
        "    plt.show()\n",
        "\n",
        "generate_pAUC_plot(predictions_train, true_labels_train)"
      ]
    },
    {
      "cell_type": "markdown",
      "metadata": {
        "id": "rY0Ny6pYQF2j"
      },
      "source": [
        "**Extra:**  \n",
        "For the next assignment we will compare two approaches:  \n",
        "- Gather new data from a different source to enhance the CNN.\n",
        "- Use the metadata to enhance the decisions.  \n",
        "\n",
        "These two might not be compatible, so we need to try and evaluate both."
      ]
    }
  ],
  "metadata": {
    "accelerator": "GPU",
    "colab": {
      "gpuType": "T4",
      "provenance": [],
      "collapsed_sections": [
        "JAKVH9CsyP7N",
        "943_QU1I-vle"
      ],
      "include_colab_link": true
    },
    "kernelspec": {
      "display_name": "Python 3",
      "name": "python3"
    },
    "language_info": {
      "name": "python"
    }
  },
  "nbformat": 4,
  "nbformat_minor": 0
}