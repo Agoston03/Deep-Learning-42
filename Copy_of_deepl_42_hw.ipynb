{
  "cells": [
    {
      "cell_type": "markdown",
      "metadata": {
        "id": "jaVr3Q6x0tKL"
      },
      "source": [
        "This is a homework project in Deep Learning a gyakorlatban Python és Lua alapokon.  \n",
        "The team members are:\n",
        "\n",
        "* Gergő László Gyulai\n",
        "* Ágoston Horváth\n",
        "* Dávid Frink\n",
        "\n",
        "You can read more information about our chosen homework at the link below:  \n",
        "https://www.kaggle.com/competitions/isic-2024-challenge"
      ]
    },
    {
      "cell_type": "markdown",
      "metadata": {
        "id": "gTfguNqP_MPw"
      },
      "source": [
        "## Setup"
      ]
    },
    {
      "cell_type": "markdown",
      "source": [
        "Installing the Kaggle library for downloading datasets from Kaggle"
      ],
      "metadata": {
        "id": "yY8AhU1u3s6x"
      }
    },
    {
      "cell_type": "code",
      "source": [
        "!pip install kaggle==1.5.12"
      ],
      "metadata": {
        "id": "Fd3fevao3qnF"
      },
      "execution_count": null,
      "outputs": []
    },
    {
      "cell_type": "markdown",
      "source": [
        "Configuring Kaggle to access the API\n",
        "\n",
        "**Warning!** You need to copy your own kaggle.json file into Colab in order to valide yourself"
      ],
      "metadata": {
        "id": "WIWw9Lo03vyz"
      }
    },
    {
      "cell_type": "code",
      "source": [
        "!mkdir -p ~/.kaggle\n",
        "!cp kaggle.json ~/.kaggle/\n",
        "!chmod 600 ~/.kaggle/kaggle.json"
      ],
      "metadata": {
        "id": "AzidBN5O3vJj"
      },
      "execution_count": null,
      "outputs": []
    },
    {
      "cell_type": "markdown",
      "source": [
        "Download the dataset from the specified Kaggle competition\n"
      ],
      "metadata": {
        "id": "TQGFzc2O30QB"
      }
    },
    {
      "cell_type": "code",
      "source": [
        "!kaggle competitions download -c isic-2024-challenge"
      ],
      "metadata": {
        "id": "AXxaKPAQ3yTn"
      },
      "execution_count": null,
      "outputs": []
    },
    {
      "cell_type": "markdown",
      "source": [
        "Extracting the downloaded dataset\n",
        "\n",
        "**Warning!** This might take a few minuttes"
      ],
      "metadata": {
        "id": "dRFgQFgp31iU"
      }
    },
    {
      "cell_type": "code",
      "execution_count": null,
      "metadata": {
        "colab": {
          "background_save": true,
          "base_uri": "https://localhost:8080/"
        },
        "collapsed": true,
        "id": "3mF86X9w98eu",
        "outputId": "a22d33ae-4065-4e7c-d1c5-4dd6b196efa0"
      },
      "outputs": [
        {
          "name": "stdout",
          "output_type": "stream",
          "text": [
            "Requirement already satisfied: kaggle==1.5.12 in /usr/local/lib/python3.10/dist-packages (1.5.12)\n",
            "Requirement already satisfied: six>=1.10 in /usr/local/lib/python3.10/dist-packages (from kaggle==1.5.12) (1.16.0)\n",
            "Requirement already satisfied: certifi in /usr/local/lib/python3.10/dist-packages (from kaggle==1.5.12) (2024.8.30)\n",
            "Requirement already satisfied: python-dateutil in /usr/local/lib/python3.10/dist-packages (from kaggle==1.5.12) (2.8.2)\n",
            "Requirement already satisfied: requests in /usr/local/lib/python3.10/dist-packages (from kaggle==1.5.12) (2.32.3)\n",
            "Requirement already satisfied: tqdm in /usr/local/lib/python3.10/dist-packages (from kaggle==1.5.12) (4.66.5)\n",
            "Requirement already satisfied: python-slugify in /usr/local/lib/python3.10/dist-packages (from kaggle==1.5.12) (8.0.4)\n",
            "Requirement already satisfied: urllib3 in /usr/local/lib/python3.10/dist-packages (from kaggle==1.5.12) (2.2.3)\n",
            "Requirement already satisfied: text-unidecode>=1.3 in /usr/local/lib/python3.10/dist-packages (from python-slugify->kaggle==1.5.12) (1.3)\n",
            "Requirement already satisfied: charset-normalizer<4,>=2 in /usr/local/lib/python3.10/dist-packages (from requests->kaggle==1.5.12) (3.4.0)\n",
            "Requirement already satisfied: idna<4,>=2.5 in /usr/local/lib/python3.10/dist-packages (from requests->kaggle==1.5.12) (3.10)\n",
            "isic-2024-challenge.zip: Skipping, found more recently modified local copy (use --force to force download)\n",
            "Archive:  isic-2024-challenge.zip\n",
            "replace sample_submission.csv? [y]es, [n]o, [A]ll, [N]one, [r]ename: "
          ]
        }
      ],
      "source": [
        "!unzip isic-2024-challenge.zip"
      ]
    },
    {
      "cell_type": "markdown",
      "metadata": {
        "id": "IqfrOz6QIeZt"
      },
      "source": [
        "Importing libraries"
      ]
    },
    {
      "cell_type": "code",
      "execution_count": null,
      "metadata": {
        "id": "LUXOlkXJstRC"
      },
      "outputs": [],
      "source": [
        "import pandas as pd\n",
        "import numpy as np"
      ]
    },
    {
      "cell_type": "markdown",
      "metadata": {
        "id": "cVdqkO-fL8eW"
      },
      "source": [
        "## Load and prepare sample metadata\n",
        "\n"
      ]
    },
    {
      "cell_type": "code",
      "execution_count": null,
      "metadata": {
        "collapsed": true,
        "id": "1cw7u7bzL_TG"
      },
      "outputs": [],
      "source": [
        "train_df = pd.read_csv('train-metadata.csv')\n",
        "display(train_df.head(2))\n",
        "\n",
        "test_df = pd.read_csv('test-metadata.csv')\n",
        "display(test_df)"
      ]
    },
    {
      "cell_type": "markdown",
      "metadata": {
        "id": "o-8F0gkwwpUN"
      },
      "source": [
        "Classes distribution: 0: benign, 1: malignant.\n"
      ]
    },
    {
      "cell_type": "code",
      "execution_count": null,
      "metadata": {
        "collapsed": true,
        "id": "hvlQKO6MwdtO"
      },
      "outputs": [],
      "source": [
        "print(\"\\nClass Distribution (%):\")\n",
        "display(train_df['target'].value_counts(normalize=True) *  100)\n",
        "\n",
        "print(\"\\nClass Distribution:\")\n",
        "display(train_df['target'].value_counts())"
      ]
    },
    {
      "cell_type": "markdown",
      "metadata": {
        "id": "yJvmobE-2_3m"
      },
      "source": [
        "Creating a subset of the main dataset for improved handling and processing while maintaining the same distribution."
      ]
    },
    {
      "cell_type": "code",
      "execution_count": null,
      "metadata": {
        "id": "taV7ZP0cxhOl"
      },
      "outputs": [],
      "source": [
        "benign_df = train_df.query('target == 0')\n",
        "malignant_df = train_df.query('target == 1')\n",
        "\n",
        "class_counts = train_df['target'].value_counts(normalize=True)\n",
        "\n",
        "benign_percentage, malignant_percentage = class_counts\n",
        "\n",
        "SAMPLE_SIZE = 2500\n",
        "\n",
        "benign_sample_train_df = benign_df.sample(n=int(benign_percentage * SAMPLE_SIZE), random_state=42)\n",
        "malignant_sample_train_df = malignant_df.sample(n=int(malignant_percentage * SAMPLE_SIZE), random_state=42)\n",
        "\n",
        "sample_train_df = pd.concat([benign_sample_train_df, malignant_sample_train_df])\n",
        "\n",
        "print(\"\\nClass Distribution after sampling (%):\")\n",
        "display(sample_train_df['target'].value_counts(normalize=True) * 100)\n",
        "\n",
        "print(\"\\nClass Distribution:\")\n",
        "display(sample_train_df['target'].value_counts())"
      ]
    },
    {
      "cell_type": "markdown",
      "metadata": {
        "id": "Nz8E84yk4jk1"
      },
      "source": [
        "Selecting essential columns in terms of the desired training dataset."
      ]
    },
    {
      "cell_type": "code",
      "execution_count": null,
      "metadata": {
        "collapsed": true,
        "id": "suXtyKkL4i8V"
      },
      "outputs": [],
      "source": [
        "COLUMNS = [\n",
        "    'isic_id',\n",
        "    'target',\n",
        "    'tbp_lv_nevi_confidence',\n",
        "    'clin_size_long_diam_mm',\n",
        "    'tbp_lv_areaMM2',\n",
        "    'tbp_lv_area_perim_ratio',\n",
        "    'tbp_lv_color_std_mean',\n",
        "    'tbp_lv_deltaLBnorm',\n",
        "    'tbp_lv_minorAxisMM',\n",
        "    'tbp_lv_perimeterMM'\n",
        "]\n",
        "\n",
        "relevant_sample_train_df = sample_train_df[COLUMNS]\n",
        "relevant_test_df = test_df[COLUMNS[:1] + COLUMNS[2:]]\n",
        "\n",
        "print(\"\\nSample train dataset: \")\n",
        "display(relevant_sample_train_df.head(2))\n",
        "\n",
        "print(\"\\nTest dataset: \")\n",
        "display(relevant_test_df.head(2))"
      ]
    },
    {
      "cell_type": "markdown",
      "metadata": {
        "id": "dVkM96R_M7Xv"
      },
      "source": [
        "Saving the existing dataframes for further use."
      ]
    },
    {
      "cell_type": "code",
      "execution_count": null,
      "metadata": {
        "id": "nLDNlcORM7GB"
      },
      "outputs": [],
      "source": [
        "relevant_sample_train_df.to_csv('sample-train-metadata.csv')\n",
        "relevant_test_df.to_csv('sample-test_metadata.csv')"
      ]
    },
    {
      "cell_type": "code",
      "execution_count": null,
      "metadata": {
        "id": "SurEbM6xPdtf"
      },
      "outputs": [],
      "source": [
        "train = relevant_sample_train_df.to_numpy()\n",
        "test = relevant_test_df.to_numpy()\n",
        "\n",
        "train = train[:, 1:]\n",
        "test = test[:, 1:]"
      ]
    },
    {
      "cell_type": "markdown",
      "metadata": {
        "id": "JAKVH9CsyP7N"
      },
      "source": [
        "## Loading the images"
      ]
    },
    {
      "cell_type": "markdown",
      "metadata": {
        "id": "m8PL_lfVDeRI"
      },
      "source": [
        "Handling the absolutely usual .h5py file format, that I have totally seen before in my life...  \n",
        "(I am just \"panic coding\" this with Gemini, pls help!)"
      ]
    },
    {
      "cell_type": "code",
      "execution_count": null,
      "metadata": {
        "id": "Vl986m7o_9e7"
      },
      "outputs": [],
      "source": [
        "import h5py\n",
        "\n",
        "sample_images = []\n",
        "sample_keys = ['ISIC_0015670', 'ISIC_3952806', 'ISIC_4803122', 'ISIC_5084643']\n",
        "\n",
        "file_path = 'train-image.hdf5'\n",
        "with h5py.File(file_path, 'r') as f:\n",
        "  for key in sample_keys:\n",
        "    sample_images.append(f[key][()])\n",
        "\n",
        "\n",
        "for i, image in enumerate(sample_images):\n",
        "    print(f\"Image {sample_keys[i]} shape: {image.shape}\")"
      ]
    },
    {
      "cell_type": "markdown",
      "metadata": {
        "id": "ZbETb9HYx-d0"
      },
      "source": [
        "Lets see our sample images!"
      ]
    },
    {
      "cell_type": "code",
      "execution_count": null,
      "metadata": {
        "id": "RF4gSC9GDtlV"
      },
      "outputs": [],
      "source": [
        "import matplotlib.pyplot as plt\n",
        "from PIL import Image\n",
        "import io\n",
        "import numpy as np\n",
        "\n",
        "fig, axes = plt.subplots(2, 2, figsize=(10, 10))  # Create a 2x2 grid of subplots\n",
        "axes = axes.flatten()  # Flatten the axes array for easier iteration\n",
        "\n",
        "for i, image in enumerate(sample_images):\n",
        "    img = Image.open(io.BytesIO(image))\n",
        "    img = np.array(img)\n",
        "    axes[i].imshow(img)  # Display the image on the current subplot\n",
        "    axes[i].set_title(sample_keys[i])  # Set the title of the subplot\n",
        "\n",
        "plt.tight_layout()  # Adjust subplot parameters for a tight layout\n",
        "plt.show()  # Display the plot"
      ]
    },
    {
      "cell_type": "code",
      "execution_count": null,
      "metadata": {
        "id": "UZsGzXjIycHH"
      },
      "outputs": [],
      "source": []
    }
  ],
  "metadata": {
    "accelerator": "GPU",
    "colab": {
      "collapsed_sections": [
        "JAKVH9CsyP7N"
      ],
      "gpuType": "T4",
      "provenance": []
    },
    "kernelspec": {
      "display_name": "Python 3",
      "name": "python3"
    },
    "language_info": {
      "name": "python"
    }
  },
  "nbformat": 4,
  "nbformat_minor": 0
}